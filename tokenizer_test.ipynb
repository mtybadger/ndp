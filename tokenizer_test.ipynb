{
 "cells": [
  {
   "cell_type": "code",
   "execution_count": 1,
   "metadata": {},
   "outputs": [],
   "source": [
    "import torch\n",
    "from rotary_embedding_torch import RotaryEmbedding"
   ]
  },
  {
   "cell_type": "code",
   "execution_count": 2,
   "metadata": {},
   "outputs": [],
   "source": [
    "pos_emb = RotaryEmbedding(\n",
    "    dim = 16,\n",
    "    freqs_for = 'pixel',\n",
    "    max_freq = 256\n",
    ")"
   ]
  },
  {
   "cell_type": "code",
   "execution_count": 33,
   "metadata": {},
   "outputs": [
    {
     "name": "stdout",
     "output_type": "stream",
     "text": [
      "torch.Size([1, 1, 48])\n",
      "torch.Size([2, 2, 48])\n",
      "torch.Size([4, 4, 48])\n",
      "torch.Size([8, 8, 48])\n",
      "torch.Size([16, 16, 48])\n"
     ]
    }
   ],
   "source": [
    "freqs0 = pos_emb.get_axial_freqs(5, 1, 1)[0].view(-1, 48)\n",
    "freqs1 = pos_emb.get_axial_freqs(5, 2, 2)[1].view(-1, 48)    \n",
    "freqs2 = pos_emb.get_axial_freqs(5, 4, 4)[2].view(-1, 48)\n",
    "freqs3 = pos_emb.get_axial_freqs(5, 8, 8)[3].view(-1, 48)\n",
    "freqs4 = pos_emb.get_axial_freqs(5, 16, 16)[4].view(-1, 48)\n",
    "\n",
    "print(freqs0.shape)\n",
    "print(freqs1.shape)\n",
    "print(freqs2.shape)\n",
    "print(freqs3.shape)\n",
    "print(freqs4.shape)\n",
    "\n",
    "\n"
   ]
  }
 ],
 "metadata": {
  "kernelspec": {
   "display_name": ".venv",
   "language": "python",
   "name": "python3"
  },
  "language_info": {
   "codemirror_mode": {
    "name": "ipython",
    "version": 3
   },
   "file_extension": ".py",
   "mimetype": "text/x-python",
   "name": "python",
   "nbconvert_exporter": "python",
   "pygments_lexer": "ipython3",
   "version": "3.10.12"
  }
 },
 "nbformat": 4,
 "nbformat_minor": 2
}
